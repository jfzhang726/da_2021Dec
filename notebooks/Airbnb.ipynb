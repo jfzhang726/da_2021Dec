{
 "cells": [
  {
   "cell_type": "markdown",
   "id": "3f078bfe-053d-43f9-a46f-d2f5414501ea",
   "metadata": {},
   "source": [
    "## Analysis Airbnb ##\n",
    "\n",
    "Notes: \n",
    "- listing_id is for property"
   ]
  },
  {
   "cell_type": "markdown",
   "id": "16047c86-e7b1-4b3b-9d72-61ee2439b127",
   "metadata": {},
   "source": [
    "### import libraries ###"
   ]
  },
  {
   "cell_type": "code",
   "execution_count": 2,
   "id": "78167605-789c-4664-8454-b6d6cbca847d",
   "metadata": {},
   "outputs": [],
   "source": [
    "import pandas as pd\n",
    "import matplotlib.pyplot as plt\n",
    "import seaborn as sns\n",
    "import plotly.express as px"
   ]
  },
  {
   "cell_type": "markdown",
   "id": "669536cc-d81c-4abf-83da-8e387c41f207",
   "metadata": {},
   "source": [
    "### load data ###\n"
   ]
  },
  {
   "cell_type": "code",
   "execution_count": 3,
   "id": "8b4ed5b0-628f-4bd4-978e-0875eed0c392",
   "metadata": {},
   "outputs": [],
   "source": [
    "# As of Jan 1, 2022, we can find 11 AirBnb data sets on http://insideairbnb.com/get-the-data.html, \n",
    "# which were scrapped one time per month between Dec 2020 and Nov 2021, with May 2021 skipped. \n",
    "# The 11 datasets where downloaded and put in 11 folders. The foler names are shown below.\n",
    "FOLDERS = ['data_airbnb_syd/20201214/',\n",
    "           'data_airbnb_syd/20210110/',\n",
    "           'data_airbnb_syd/20210208/',\n",
    "           'data_airbnb_syd/20210304/',\n",
    "           'data_airbnb_syd/20210410/',\n",
    "           'data_airbnb_syd/20210605/',\n",
    "           'data_airbnb_syd/20210705/',\n",
    "           'data_airbnb_syd/20210807/',\n",
    "           'data_airbnb_syd/20210908/',\n",
    "           'data_airbnb_syd/20211009/',\n",
    "           'data_airbnb_syd/20211106/']"
   ]
  },
  {
   "cell_type": "code",
   "execution_count": 6,
   "id": "60302411-f310-4af2-bfb4-9266aa530b8b",
   "metadata": {},
   "outputs": [],
   "source": [
    "df_bnb_cal_detailed = pd.read_csv(\"./data_airbnb_syd/20211106/calendar_detailed.csv\", header='infer')\n",
    "#df_bnb_cal_detailed.head()"
   ]
  },
  {
   "cell_type": "code",
   "execution_count": 7,
   "id": "0a2c14da-3e43-45aa-96bb-9c7400baa34a",
   "metadata": {},
   "outputs": [],
   "source": [
    "df_bnb_listings_detailed = pd.read_csv(\"./data_airbnb_syd/20211106/listings_detailed.csv\", header='infer')\n",
    "#df_bnb_listings_detailed"
   ]
  },
  {
   "cell_type": "code",
   "execution_count": 8,
   "id": "e023c35e-f343-4b75-a0fe-fbbe71ae8790",
   "metadata": {},
   "outputs": [],
   "source": [
    "df_bnb_listings_summary = pd.read_csv(\"./data_airbnb_syd/20211106/listings.csv\", header='infer')\n",
    "#df_bnb_listings_summary"
   ]
  },
  {
   "cell_type": "code",
   "execution_count": 9,
   "id": "0f09dabe-e72f-4447-aee3-0e0eda03a62e",
   "metadata": {},
   "outputs": [],
   "source": [
    "df_bnb_reviews_detailed = pd.read_csv(\"./data_airbnb_syd/20211106/reviews_detailed.csv\", header='infer')\n",
    "#df_bnb_reviews_detailed.head(2)"
   ]
  },
  {
   "cell_type": "code",
   "execution_count": 10,
   "id": "713c74a2-1b7d-4474-897e-2d4ed7cb94f5",
   "metadata": {},
   "outputs": [],
   "source": [
    "#df_bnb_reviews_detailed.describe()"
   ]
  },
  {
   "cell_type": "code",
   "execution_count": 11,
   "id": "1ebe34ca-39cf-4a46-8d1d-d420f6dc9b3d",
   "metadata": {},
   "outputs": [],
   "source": [
    "df_bnb_reviews_summary = pd.read_csv(\"./data_airbnb_syd/20211106/reviews.csv\", header='infer')\n",
    "#df_bnb_reviews_summary.head(2)"
   ]
  },
  {
   "cell_type": "code",
   "execution_count": 12,
   "id": "1452980a-fb88-4753-ae56-14a1b237cb73",
   "metadata": {},
   "outputs": [],
   "source": [
    "#df_bnb_reviews_summary.describe()"
   ]
  },
  {
   "cell_type": "markdown",
   "id": "8323017c-f117-4aa2-87d6-341883349cd6",
   "metadata": {},
   "source": [
    "### look into calendar data ###"
   ]
  },
  {
   "cell_type": "code",
   "execution_count": 14,
   "id": "910b5b76-1ffe-43ae-8a8c-c0f65936718b",
   "metadata": {},
   "outputs": [
    {
     "data": {
      "text/html": [
       "<div>\n",
       "<style scoped>\n",
       "    .dataframe tbody tr th:only-of-type {\n",
       "        vertical-align: middle;\n",
       "    }\n",
       "\n",
       "    .dataframe tbody tr th {\n",
       "        vertical-align: top;\n",
       "    }\n",
       "\n",
       "    .dataframe thead th {\n",
       "        text-align: right;\n",
       "    }\n",
       "</style>\n",
       "<table border=\"1\" class=\"dataframe\">\n",
       "  <thead>\n",
       "    <tr style=\"text-align: right;\">\n",
       "      <th></th>\n",
       "      <th>listing_id</th>\n",
       "      <th>date</th>\n",
       "      <th>available</th>\n",
       "      <th>price</th>\n",
       "      <th>adjusted_price</th>\n",
       "      <th>minimum_nights</th>\n",
       "      <th>maximum_nights</th>\n",
       "    </tr>\n",
       "  </thead>\n",
       "  <tbody>\n",
       "    <tr>\n",
       "      <th>count</th>\n",
       "      <td>7.486888e+06</td>\n",
       "      <td>7486888</td>\n",
       "      <td>7486888</td>\n",
       "      <td>7486717</td>\n",
       "      <td>7486717</td>\n",
       "      <td>7.486886e+06</td>\n",
       "      <td>7.486886e+06</td>\n",
       "    </tr>\n",
       "    <tr>\n",
       "      <th>unique</th>\n",
       "      <td>NaN</td>\n",
       "      <td>366</td>\n",
       "      <td>2</td>\n",
       "      <td>2305</td>\n",
       "      <td>2315</td>\n",
       "      <td>NaN</td>\n",
       "      <td>NaN</td>\n",
       "    </tr>\n",
       "    <tr>\n",
       "      <th>top</th>\n",
       "      <td>NaN</td>\n",
       "      <td>2022-10-30</td>\n",
       "      <td>f</td>\n",
       "      <td>$150.00</td>\n",
       "      <td>$150.00</td>\n",
       "      <td>NaN</td>\n",
       "      <td>NaN</td>\n",
       "    </tr>\n",
       "    <tr>\n",
       "      <th>freq</th>\n",
       "      <td>NaN</td>\n",
       "      <td>20513</td>\n",
       "      <td>5441082</td>\n",
       "      <td>247266</td>\n",
       "      <td>245590</td>\n",
       "      <td>NaN</td>\n",
       "      <td>NaN</td>\n",
       "    </tr>\n",
       "    <tr>\n",
       "      <th>mean</th>\n",
       "      <td>2.665803e+07</td>\n",
       "      <td>NaN</td>\n",
       "      <td>NaN</td>\n",
       "      <td>NaN</td>\n",
       "      <td>NaN</td>\n",
       "      <td>6.431588e+01</td>\n",
       "      <td>1.639367e+06</td>\n",
       "    </tr>\n",
       "    <tr>\n",
       "      <th>std</th>\n",
       "      <td>1.441626e+07</td>\n",
       "      <td>NaN</td>\n",
       "      <td>NaN</td>\n",
       "      <td>NaN</td>\n",
       "      <td>NaN</td>\n",
       "      <td>5.218314e+01</td>\n",
       "      <td>5.929355e+07</td>\n",
       "    </tr>\n",
       "    <tr>\n",
       "      <th>min</th>\n",
       "      <td>1.115600e+04</td>\n",
       "      <td>NaN</td>\n",
       "      <td>NaN</td>\n",
       "      <td>NaN</td>\n",
       "      <td>NaN</td>\n",
       "      <td>1.000000e+00</td>\n",
       "      <td>1.000000e+00</td>\n",
       "    </tr>\n",
       "    <tr>\n",
       "      <th>25%</th>\n",
       "      <td>1.456135e+07</td>\n",
       "      <td>NaN</td>\n",
       "      <td>NaN</td>\n",
       "      <td>NaN</td>\n",
       "      <td>NaN</td>\n",
       "      <td>5.000000e+00</td>\n",
       "      <td>1.125000e+03</td>\n",
       "    </tr>\n",
       "    <tr>\n",
       "      <th>50%</th>\n",
       "      <td>2.598800e+07</td>\n",
       "      <td>NaN</td>\n",
       "      <td>NaN</td>\n",
       "      <td>NaN</td>\n",
       "      <td>NaN</td>\n",
       "      <td>9.000000e+01</td>\n",
       "      <td>1.125000e+03</td>\n",
       "    </tr>\n",
       "    <tr>\n",
       "      <th>75%</th>\n",
       "      <td>3.980829e+07</td>\n",
       "      <td>NaN</td>\n",
       "      <td>NaN</td>\n",
       "      <td>NaN</td>\n",
       "      <td>NaN</td>\n",
       "      <td>9.000000e+01</td>\n",
       "      <td>1.125000e+03</td>\n",
       "    </tr>\n",
       "    <tr>\n",
       "      <th>max</th>\n",
       "      <td>5.319059e+07</td>\n",
       "      <td>NaN</td>\n",
       "      <td>NaN</td>\n",
       "      <td>NaN</td>\n",
       "      <td>NaN</td>\n",
       "      <td>1.125000e+03</td>\n",
       "      <td>2.147484e+09</td>\n",
       "    </tr>\n",
       "  </tbody>\n",
       "</table>\n",
       "</div>"
      ],
      "text/plain": [
       "          listing_id        date available    price adjusted_price  \\\n",
       "count   7.486888e+06     7486888   7486888  7486717        7486717   \n",
       "unique           NaN         366         2     2305           2315   \n",
       "top              NaN  2022-10-30         f  $150.00        $150.00   \n",
       "freq             NaN       20513   5441082   247266         245590   \n",
       "mean    2.665803e+07         NaN       NaN      NaN            NaN   \n",
       "std     1.441626e+07         NaN       NaN      NaN            NaN   \n",
       "min     1.115600e+04         NaN       NaN      NaN            NaN   \n",
       "25%     1.456135e+07         NaN       NaN      NaN            NaN   \n",
       "50%     2.598800e+07         NaN       NaN      NaN            NaN   \n",
       "75%     3.980829e+07         NaN       NaN      NaN            NaN   \n",
       "max     5.319059e+07         NaN       NaN      NaN            NaN   \n",
       "\n",
       "        minimum_nights  maximum_nights  \n",
       "count     7.486886e+06    7.486886e+06  \n",
       "unique             NaN             NaN  \n",
       "top                NaN             NaN  \n",
       "freq               NaN             NaN  \n",
       "mean      6.431588e+01    1.639367e+06  \n",
       "std       5.218314e+01    5.929355e+07  \n",
       "min       1.000000e+00    1.000000e+00  \n",
       "25%       5.000000e+00    1.125000e+03  \n",
       "50%       9.000000e+01    1.125000e+03  \n",
       "75%       9.000000e+01    1.125000e+03  \n",
       "max       1.125000e+03    2.147484e+09  "
      ]
     },
     "execution_count": 14,
     "metadata": {},
     "output_type": "execute_result"
    }
   ],
   "source": [
    "df_bnb_cal_detailed.describe(include='all')"
   ]
  },
  {
   "cell_type": "code",
   "execution_count": 13,
   "id": "ece5d7fd-614b-4012-86c7-747978909f91",
   "metadata": {},
   "outputs": [],
   "source": [
    "df_bnb_cal_detailed['date'] = pd.to_datetime(df_bnb_cal_detailed['date'])\n",
    "#df_bnb_cal_detailed.head()"
   ]
  },
  {
   "cell_type": "code",
   "execution_count": 14,
   "id": "0f1a3f08-347a-424f-8f82-31ebfad2c391",
   "metadata": {},
   "outputs": [],
   "source": [
    "#df_bnb_cal_detailed.info()"
   ]
  },
  {
   "cell_type": "code",
   "execution_count": 19,
   "id": "3133217d-e7d6-4834-889f-9379c979fb96",
   "metadata": {},
   "outputs": [],
   "source": [
    "#df_bnb_cal_detailed['date'].value_counts()"
   ]
  },
  {
   "cell_type": "code",
   "execution_count": 16,
   "id": "3e2ed3f6-972f-45c0-835d-eaf7929c51ec",
   "metadata": {},
   "outputs": [],
   "source": [
    "#df_bnb_cal_detailed[df_bnb_cal_detailed['listing_id'] == 837264]"
   ]
  },
  {
   "cell_type": "code",
   "execution_count": 17,
   "id": "01ca46b8-7894-4d94-a5dc-af0b273002c5",
   "metadata": {},
   "outputs": [],
   "source": [
    "#df_bnb_cal_detailed[(df_bnb_cal_detailed['listing_id'] == 837264) & (df_bnb_cal_detailed['available'] == 't')]"
   ]
  },
  {
   "cell_type": "code",
   "execution_count": 18,
   "id": "d8fe5c26-0a98-4cd3-af7c-14c7482124a2",
   "metadata": {},
   "outputs": [],
   "source": [
    "#df_bnb_cal_detailed[(df_bnb_cal_detailed['listing_id'] == 837264) & (df_bnb_cal_detailed['available'] == 'f')]"
   ]
  },
  {
   "cell_type": "code",
   "execution_count": null,
   "id": "833b0e52-8927-41c6-aad5-eaaff35053fe",
   "metadata": {},
   "outputs": [],
   "source": [
    "df_bnb_cal_detailed[df_bnb_cal_detailed['available']=='t'].groupby('date')['available'].count()"
   ]
  },
  {
   "cell_type": "code",
   "execution_count": null,
   "id": "7ec1d6f3-7386-4868-9a7e-086d076fb437",
   "metadata": {},
   "outputs": [],
   "source": [
    "df_bnb_cal_detailed[df_bnb_cal_detailed['available']=='f'].groupby('date')['available'].count()"
   ]
  },
  {
   "cell_type": "code",
   "execution_count": 20,
   "id": "a3fef1de-776b-4b50-928b-d9e569989f69",
   "metadata": {},
   "outputs": [],
   "source": [
    "df_bnb_cal_2 = df_bnb_cal_detailed[df_bnb_cal_detailed['available']=='f'].groupby('date').count()\n",
    "df_bnb_cal_2.reset_index(inplace=True)\n",
    "#df_bnb_cal_2"
   ]
  },
  {
   "cell_type": "code",
   "execution_count": 21,
   "id": "ef46389d-15de-4bc6-964f-182418732394",
   "metadata": {},
   "outputs": [
    {
     "data": {
      "text/plain": [
       "<seaborn.axisgrid.FacetGrid at 0x7f8a1f886340>"
      ]
     },
     "execution_count": 21,
     "metadata": {},
     "output_type": "execute_result"
    },
    {
     "data": {
      "image/png": "[encoded data removed]",
      "text/plain": [
       "<Figure size 360x360 with 1 Axes>"
      ]
     },
     "metadata": {
      "needs_background": "light"
     },
     "output_type": "display_data"
    }
   ],
   "source": [
    "sns.relplot(data=df_bnb_cal_2, x='date', y='available', kind='line')"
   ]
  },
  {
   "cell_type": "code",
   "execution_count": 22,
   "id": "d58b93d7-b9bd-4fec-9a01-f27ee74c6dd0",
   "metadata": {},
   "outputs": [],
   "source": [
    "df_bnb_cal_detailed_20201214 = pd.read_csv(\"./data_airbnb_syd/20201214/calendar_detailed.csv\", header='infer')"
   ]
  },
  {
   "cell_type": "code",
   "execution_count": 23,
   "id": "884709fe-8c4b-4c41-8fa0-fb5a13404a57",
   "metadata": {},
   "outputs": [],
   "source": [
    "#df_bnb_cal_detailed_20201214.describe(include='all')"
   ]
  },
  {
   "cell_type": "code",
   "execution_count": 24,
   "id": "4f19b7b1-e70b-4246-b0c4-db6934f53721",
   "metadata": {},
   "outputs": [],
   "source": [
    "#df_bnb_cal_detailed_20201214"
   ]
  },
  {
   "cell_type": "code",
   "execution_count": 25,
   "id": "3b439416-96c3-41af-ad5b-a4453657a02a",
   "metadata": {},
   "outputs": [],
   "source": [
    "#df_bnb_cal_detailed_20201214['listing_id'].unique().shape"
   ]
  },
  {
   "cell_type": "code",
   "execution_count": 26,
   "id": "b2272187-c462-4e94-8d5a-05f322139d8c",
   "metadata": {},
   "outputs": [],
   "source": [
    "#12365996 / 33871"
   ]
  },
  {
   "cell_type": "code",
   "execution_count": 27,
   "id": "32a23488-da0f-4def-b902-e191f6023163",
   "metadata": {},
   "outputs": [],
   "source": [
    "#(df_bnb_cal_detailed['available']=='f').sum()"
   ]
  },
  {
   "cell_type": "code",
   "execution_count": 28,
   "id": "72cf5fc8-1dc6-4ab8-ad13-2f8080027993",
   "metadata": {},
   "outputs": [],
   "source": [
    "import os\n",
    "available_count = []\n",
    "unavailabe_count = []\n",
    "for folder in FOLDERS:\n",
    "    date_label = folder.split('/')[1]\n",
    "    file_path = os.path.join(folder, 'calendar_detailed.csv') \n",
    "    df_temp = pd.read_csv(file_path, header='infer')\n",
    "    available_count.append((date_label, (df_temp['available']=='t').sum()))\n",
    "    unavailabe_count.append((date_label, (df_temp['available']=='f').sum()))"
   ]
  },
  {
   "cell_type": "code",
   "execution_count": 29,
   "id": "da0389ef-f5ac-41a2-a195-5d2e390464ba",
   "metadata": {},
   "outputs": [
    {
     "data": {
      "text/html": [
       "<div>\n",
       "<style scoped>\n",
       "    .dataframe tbody tr th:only-of-type {\n",
       "        vertical-align: middle;\n",
       "    }\n",
       "\n",
       "    .dataframe tbody tr th {\n",
       "        vertical-align: top;\n",
       "    }\n",
       "\n",
       "    .dataframe thead th {\n",
       "        text-align: right;\n",
       "    }\n",
       "</style>\n",
       "<table border=\"1\" class=\"dataframe\">\n",
       "  <thead>\n",
       "    <tr style=\"text-align: right;\">\n",
       "      <th></th>\n",
       "      <th>date</th>\n",
       "      <th>available</th>\n",
       "      <th>unavailable</th>\n",
       "    </tr>\n",
       "  </thead>\n",
       "  <tbody>\n",
       "    <tr>\n",
       "      <th>0</th>\n",
       "      <td>20201214</td>\n",
       "      <td>3061408</td>\n",
       "      <td>9304588</td>\n",
       "    </tr>\n",
       "    <tr>\n",
       "      <th>1</th>\n",
       "      <td>20210110</td>\n",
       "      <td>3189914</td>\n",
       "      <td>9191779</td>\n",
       "    </tr>\n",
       "    <tr>\n",
       "      <th>2</th>\n",
       "      <td>20210208</td>\n",
       "      <td>3133942</td>\n",
       "      <td>9143054</td>\n",
       "    </tr>\n",
       "    <tr>\n",
       "      <th>3</th>\n",
       "      <td>20210304</td>\n",
       "      <td>3031163</td>\n",
       "      <td>9099174</td>\n",
       "    </tr>\n",
       "    <tr>\n",
       "      <th>4</th>\n",
       "      <td>20210410</td>\n",
       "      <td>3031163</td>\n",
       "      <td>9099174</td>\n",
       "    </tr>\n",
       "    <tr>\n",
       "      <th>5</th>\n",
       "      <td>20210605</td>\n",
       "      <td>2836151</td>\n",
       "      <td>8876041</td>\n",
       "    </tr>\n",
       "    <tr>\n",
       "      <th>6</th>\n",
       "      <td>20210705</td>\n",
       "      <td>2859163</td>\n",
       "      <td>8783975</td>\n",
       "    </tr>\n",
       "    <tr>\n",
       "      <th>7</th>\n",
       "      <td>20210807</td>\n",
       "      <td>2886912</td>\n",
       "      <td>8706961</td>\n",
       "    </tr>\n",
       "    <tr>\n",
       "      <th>8</th>\n",
       "      <td>20210908</td>\n",
       "      <td>2754817</td>\n",
       "      <td>8571136</td>\n",
       "    </tr>\n",
       "    <tr>\n",
       "      <th>9</th>\n",
       "      <td>20211009</td>\n",
       "      <td>2610491</td>\n",
       "      <td>8416291</td>\n",
       "    </tr>\n",
       "    <tr>\n",
       "      <th>10</th>\n",
       "      <td>20211106</td>\n",
       "      <td>2045806</td>\n",
       "      <td>5441082</td>\n",
       "    </tr>\n",
       "  </tbody>\n",
       "</table>\n",
       "</div>"
      ],
      "text/plain": [
       "        date  available  unavailable\n",
       "0   20201214    3061408      9304588\n",
       "1   20210110    3189914      9191779\n",
       "2   20210208    3133942      9143054\n",
       "3   20210304    3031163      9099174\n",
       "4   20210410    3031163      9099174\n",
       "5   20210605    2836151      8876041\n",
       "6   20210705    2859163      8783975\n",
       "7   20210807    2886912      8706961\n",
       "8   20210908    2754817      8571136\n",
       "9   20211009    2610491      8416291\n",
       "10  20211106    2045806      5441082"
      ]
     },
     "execution_count": 29,
     "metadata": {},
     "output_type": "execute_result"
    }
   ],
   "source": [
    "df_availability = pd.DataFrame({'date': [d for d, _ in available_count],\n",
    "                                'available': [n for _, n in available_count],\n",
    "                                'unavailable': [n for _, n in unavailabe_count]})\n",
    "df_availability"
   ]
  },
  {
   "cell_type": "code",
   "execution_count": 30,
   "id": "9f47e8fa-5178-4975-bfab-883f2d53e9b7",
   "metadata": {},
   "outputs": [],
   "source": [
    "df_availability['diff_unava_and_ava'] = df_availability['unavailable'] - df_availability['available']\n",
    "#df_availability"
   ]
  },
  {
   "cell_type": "code",
   "execution_count": 31,
   "id": "42c38825-7125-496e-a91e-e0496b52e30f",
   "metadata": {},
   "outputs": [
    {
     "data": {
      "text/plain": [
       "<matplotlib.legend.Legend at 0x7f89a882cfd0>"
      ]
     },
     "execution_count": 31,
     "metadata": {},
     "output_type": "execute_result"
    },
    {
     "data": {
      "image/png": "[encoded data removed]",
      "text/plain": [
       "<Figure size 432x288 with 1 Axes>"
      ]
     },
     "metadata": {
      "needs_background": "light"
     },
     "output_type": "display_data"
    }
   ],
   "source": [
    "\n",
    "\n",
    "fig, ax = plt.subplots()\n",
    "plt.xticks(rotation=45)\n",
    "ax = sns.lineplot(data=df_availability, x='date', y='available', label='available')\n",
    "ax2 = sns.lineplot(data=df_availability, x='date', y='unavailable', label='unavailable')\n",
    "ax3 = sns.lineplot(data=df_availability, x='date', y='diff_unava_and_ava', label='unavailable - available')\n",
    "plt.xlabel('date of collecting data')\n",
    "plt.ylabel('number of days in next 365 days')\n",
    "plt.legend()"
   ]
  },
  {
   "cell_type": "code",
   "execution_count": 32,
   "id": "a60a9111-3319-4412-9280-95450c10df52",
   "metadata": {},
   "outputs": [],
   "source": [
    "df_availability['available_ratio'] = df_availability['available'] / (df_availability['available'] + df_availability['unavailable'])\n",
    "#df_availability"
   ]
  },
  {
   "cell_type": "code",
   "execution_count": 33,
   "id": "6a20c473-c766-4123-a57f-c94ba6d0cbcd",
   "metadata": {},
   "outputs": [
    {
     "data": {
      "text/plain": [
       "<matplotlib.legend.Legend at 0x7f89a7de58b0>"
      ]
     },
     "execution_count": 33,
     "metadata": {},
     "output_type": "execute_result"
    },
    {
     "data": {
      "image/png": "[encoded data removed]",
      "text/plain": [
       "<Figure size 432x288 with 1 Axes>"
      ]
     },
     "metadata": {
      "needs_background": "light"
     },
     "output_type": "display_data"
    }
   ],
   "source": [
    "fig, ax = plt.subplots()\n",
    "plt.xticks(rotation=45)\n",
    "ax = sns.lineplot(data=df_availability, x='date', y='available_ratio', label='ratio of available')\n",
    "plt.xlabel('date')\n",
    "plt.ylabel('ratio of available')\n",
    "plt.legend()"
   ]
  },
  {
   "cell_type": "markdown",
   "id": "6d058081-8972-4fbb-94cd-7da9545399f6",
   "metadata": {},
   "source": [
    "### look into listing.csv and listing.csv.gz ###\n",
    "- File listing.csv is summary information and metrics for listings in Sydney (good for visualisations). Fields:\n",
    "    - listing_id\n",
    "    - id\n",
    "    - date\n",
    "    - reviewer_id\n",
    "    - reviewer_name\n",
    "    - comments\n",
    "- File listing.csv.gz is detailed information for listings in Sydney. Fields:\n",
    "    - id:  &ensp; integer &ensp; Airbnb's unique identifier for the listing\n",
    "    - name: &ensp;string\t\t\n",
    "    - host_id: &ensp;integer\t\t\n",
    "    - host_name: &ensp;string\t\t\n",
    "    - neighbourhood_group:\t&ensp;text\t&ensp;Calculated\t&ensp;The neighbourhood group as geocoded using the latitude and longitude against neighborhoods as defined by open or public digital shapefiles.\n",
    "    - neighbourhood:\t&ensp;text\t&ensp;Calculated\t&ensp;The neighbourhood as geocoded using the latitude and longitude against neighborhoods as defined by open or public digital shapefiles.\n",
    "    - latitude:\t&ensp;numeric\t\t&ensp;Uses the World Geodetic System (WGS84) projection for latitude and longitude.\n",
    "    - longitude:&ensp;\t\t\t&ensp;Uses the World Geodetic System (WGS84) projection for latitude and longitude.\n",
    "    - room_type:&ensp;\tstring\t\t\n",
    "    - price:&ensp;\tcurrency\t\t&ensp;daily price in local currency. Note, $ sign may be used despite locale\n",
    "    - minimum_nights:&ensp;\tinteger\t\t&ensp;minimum number of night stay for the listing (calendar rules may be different)\n",
    "    - number_of_reviews:&ensp;\tinteger\t\t&ensp;The number of reviews the listing has\n",
    "    - last_review:\t&ensp;date\t&ensp;Calculated\t&ensp;The date of the last/newest review\n",
    "    - calculated_host_listings_count:\t&ensp; integer\t&ensp; Calculated \t&ensp;The number of listings the host has in the current scrape, in the city/region geography.\n",
    "    - availability_365:&ensp;\tinteger &ensp;\tCalculated\t&ensp; avaliability_x. &ensp; The availability of the listing x days in the future as determined by the calendar. Note a listing may be available because it has been booked by a guest or blocked by the host.\n",
    "    - number_of_reviews_ltm:&ensp;\tinteger\t&ensp;Calculated\t&ensp;&ensp;The number of reviews the listing has (in the last 12 months)\n",
    "    - license:&ensp;\tstring\t\t\n",
    "- One row per property; properties are unique in file.\n"
   ]
  },
  {
   "cell_type": "code",
   "execution_count": 34,
   "id": "97803607-4f24-4781-b400-5f2e9b4f84e2",
   "metadata": {},
   "outputs": [],
   "source": [
    "df_listings_summary_20211106 = pd.read_csv(\"./data_airbnb_syd/20211106/listings.csv\", header='infer')\n"
   ]
  },
  {
   "cell_type": "code",
   "execution_count": null,
   "id": "36ac57a9-3741-4326-a1dc-1c4596f4893e",
   "metadata": {},
   "outputs": [],
   "source": [
    "df_listings_summary_20211106.head()"
   ]
  },
  {
   "cell_type": "code",
   "execution_count": null,
   "id": "c0d3a0b7-950e-464b-aa03-bcc9637cd09e",
   "metadata": {},
   "outputs": [],
   "source": [
    "df_listings_summary_20211106.describe(include='all')"
   ]
  },
  {
   "cell_type": "code",
   "execution_count": null,
   "id": "d6d56440-6a1a-4760-9ccf-497bf0a33f10",
   "metadata": {},
   "outputs": [],
   "source": [
    "print('number of properties {}'.format(df_listings_summary_20211106['id'].unique().shape[0]))\n",
    "print('number of hosts {}'.format(df_listings_summary_20211106['host_id'].unique().shape[0]))"
   ]
  },
  {
   "cell_type": "code",
   "execution_count": 35,
   "id": "98b1b791-123a-4caa-8ff6-c4641d983884",
   "metadata": {},
   "outputs": [
    {
     "name": "stderr",
     "output_type": "stream",
     "text": [
      "<ipython-input-35-ddd5c519601f>:1: FutureWarning: Indexing with multiple keys (implicitly converted to a tuple of keys) will be deprecated, use a list instead.\n",
      "  df_listing_neighbourhood = df_listings_summary_20211106.groupby('neighbourhood')['id', 'host_id'].nunique()\n"
     ]
    }
   ],
   "source": [
    "df_listing_neighbourhood = df_listings_summary_20211106.groupby('neighbourhood')['id', 'host_id'].nunique()\n",
    "df_listing_neighbourhood.reset_index(inplace=True)\n",
    "#df_listing_neighbourhood"
   ]
  },
  {
   "cell_type": "code",
   "execution_count": 36,
   "id": "1892f118-4e76-4c91-b5f3-3319bf94af73",
   "metadata": {},
   "outputs": [
    {
     "data": {
      "image/png": "[encoded data removed]",
      "text/plain": [
       "<Figure size 1296x576 with 1 Axes>"
      ]
     },
     "metadata": {
      "needs_background": "light"
     },
     "output_type": "display_data"
    }
   ],
   "source": [
    "fig, ax = plt.subplots(figsize=(18, 8))\n",
    "plt.xticks(rotation=75)\n",
    "ax = sns.barplot(data=df_listing_neighbourhood,\n",
    "                 x='neighbourhood', y='id')"
   ]
  },
  {
   "cell_type": "code",
   "execution_count": null,
   "id": "6ca4536c-2824-4cb2-b0b2-388d349fd563",
   "metadata": {},
   "outputs": [],
   "source": [
    "df_listings_summary_20201214 = pd.read_csv(\"./data_airbnb_syd/20201214/listings.csv\", header='infer')\n",
    "df_listings_summary_20201214['id'].unique().shape"
   ]
  },
  {
   "cell_type": "code",
   "execution_count": null,
   "id": "098f3627-8405-4896-91de-34733f3a0b3b",
   "metadata": {},
   "outputs": [],
   "source": [
    "print('number of properties {}'.format(df_listings_summary_20201214['id'].unique().shape[0]))\n",
    "print('number of hosts {}'.format(df_listings_summary_20201214['host_id'].unique().shape[0]))"
   ]
  },
  {
   "cell_type": "code",
   "execution_count": 37,
   "id": "253106fb-03da-45f4-bb73-373ce396dbc8",
   "metadata": {},
   "outputs": [],
   "source": [
    "import os\n",
    "property_numbers = []\n",
    "host_numbers = []\n",
    "for folder in FOLDERS:\n",
    "    date_label = folder.split('/')[1]\n",
    "    file_path = os.path.join(folder, 'listings.csv') \n",
    "    df_temp = pd.read_csv(file_path, header='infer')\n",
    "    property_numbers.append((date_label, df_temp['id'].unique().shape[0]))\n",
    "    host_numbers.append((date_label, df_temp['host_id'].unique().shape[0]))\n"
   ]
  },
  {
   "cell_type": "code",
   "execution_count": 38,
   "id": "1e3a827e-592c-4150-8d8f-910395a8e596",
   "metadata": {},
   "outputs": [
    {
     "data": {
      "text/plain": [
       "[('20201214', 33871),\n",
       " ('20210110', 33902),\n",
       " ('20210208', 33630),\n",
       " ('20210304', 33229),\n",
       " ('20210410', 33229),\n",
       " ('20210605', 32079),\n",
       " ('20210705', 31899),\n",
       " ('20210807', 31764),\n",
       " ('20210908', 31030),\n",
       " ('20211009', 30223),\n",
       " ('20211106', 20513)]"
      ]
     },
     "execution_count": 38,
     "metadata": {},
     "output_type": "execute_result"
    }
   ],
   "source": [
    "property_numbers"
   ]
  },
  {
   "cell_type": "code",
   "execution_count": 39,
   "id": "86e9d991-2a53-40d4-95fa-7b94a890497b",
   "metadata": {},
   "outputs": [
    {
     "data": {
      "text/plain": [
       "[('20201214', 25321),\n",
       " ('20210110', 25097),\n",
       " ('20210208', 24965),\n",
       " ('20210304', 24759),\n",
       " ('20210410', 24759),\n",
       " ('20210605', 24055),\n",
       " ('20210705', 23913),\n",
       " ('20210807', 23799),\n",
       " ('20210908', 23467),\n",
       " ('20211009', 22980),\n",
       " ('20211106', 14977)]"
      ]
     },
     "execution_count": 39,
     "metadata": {},
     "output_type": "execute_result"
    }
   ],
   "source": [
    "host_numbers"
   ]
  },
  {
   "cell_type": "code",
   "execution_count": 41,
   "id": "a93bb087-5baa-4ae6-b002-c3b61245b0e6",
   "metadata": {},
   "outputs": [],
   "source": [
    "df_property_host_numbers = pd.DataFrame({'date': [d for d, _ in property_numbers],\n",
    "                                         'property_number': [n for _, n in property_numbers],\n",
    "                                         'host_number': [n for _, n in host_numbers]})"
   ]
  },
  {
   "cell_type": "code",
   "execution_count": null,
   "id": "63d2d18c-3418-4fce-9121-ab893ab16664",
   "metadata": {},
   "outputs": [],
   "source": [
    "#import matplotlib.pyplot as plt\n",
    "\n",
    "#plt.xticks(rotation=45)\n",
    "#plt.title('Property and Host numbers 2020 Dec - 2021 Nov')\n",
    "#\n",
    "#plt.plot(df_property_host_numbers['date'], df_property_host_numbers['property_number'], label='Property Number')\n",
    "#plt.plot(df_property_host_numbers['date'], df_property_host_numbers['host_number'], label='Host Number')\n",
    "#\n",
    "#plt.legend()\n"
   ]
  },
  {
   "cell_type": "code",
   "execution_count": 119,
   "id": "d482c341-2d12-42af-a873-d46603b3b6ff",
   "metadata": {},
   "outputs": [],
   "source": [
    "#sns.relplot(data=df_property_host_numbers, kind='line')"
   ]
  },
  {
   "cell_type": "code",
   "execution_count": 112,
   "id": "023d6254-910d-4ad4-8b8e-03425791dfce",
   "metadata": {},
   "outputs": [],
   "source": [
    "#pd.melt(df_property_host_numbers, \n",
    "#        id_vars=['date'], \n",
    "#        value_vars=['property_number', 'host_number'],\n",
    "#        var_name='number',\n",
    "#       )"
   ]
  },
  {
   "cell_type": "code",
   "execution_count": 113,
   "id": "5b433e24-0d31-4f05-a5fb-1730f190c580",
   "metadata": {},
   "outputs": [],
   "source": [
    "#sns.relplot(data=pd.melt(df_property_host_numbers, \n",
    "#                         id_vars=['date'], \n",
    "#                         value_vars=['property_number', 'host_number'],\n",
    "#                         var_name='type',\n",
    "#                         value_name='number'), \n",
    "#            x='date', \n",
    "#            y='number', \n",
    "#            hue='type', \n",
    "#            kind='line')"
   ]
  },
  {
   "cell_type": "code",
   "execution_count": 42,
   "id": "f2a10072-6570-4497-8d8a-7f734f8ffaf6",
   "metadata": {},
   "outputs": [
    {
     "data": {
      "text/plain": [
       "<matplotlib.legend.Legend at 0x7f89a82e79a0>"
      ]
     },
     "execution_count": 42,
     "metadata": {},
     "output_type": "execute_result"
    },
    {
     "data": {
      "image/png": "[encoded data removed]",
      "text/plain": [
       "<Figure size 432x288 with 1 Axes>"
      ]
     },
     "metadata": {
      "needs_background": "light"
     },
     "output_type": "display_data"
    }
   ],
   "source": [
    "fig, ax = plt.subplots()\n",
    "plt.title('Property and Host numbers 2020 Dec - 2021 Nov')\n",
    "plt.xticks(rotation=45)\n",
    "ax = sns.lineplot(data=df_property_host_numbers, x='date', y='property_number', label='Property Number')\n",
    "ax1 = sns.lineplot(data=df_property_host_numbers, x='date', y='host_number', label='Host Number')\n",
    "plt.xlabel('date')\n",
    "plt.ylabel('number')\n",
    "plt.legend()\n"
   ]
  },
  {
   "cell_type": "markdown",
   "id": "b64f7627-37ae-4a87-9212-6c193077be0d",
   "metadata": {},
   "source": [
    "### look into reviews.csv ###\n",
    "- summary of reviews"
   ]
  },
  {
   "cell_type": "code",
   "execution_count": null,
   "id": "ec8240b8-279c-4cab-90f4-beb41c213245",
   "metadata": {},
   "outputs": [],
   "source": []
  },
  {
   "cell_type": "markdown",
   "id": "54347249-4002-4828-bd35-e35ebf6f940b",
   "metadata": {},
   "source": [
    "### look into neighbourhoods.csv and neighbourhoods.geojson ###\n",
    "- neighbourhoods.csv is a list of suburb names within Great Sydney area\n",
    "- neighbourhoods.geojson present the borders of each suburb in form of lists of geo coordinates"
   ]
  },
  {
   "cell_type": "code",
   "execution_count": 130,
   "id": "ce23385a-5dbd-47bd-92df-7b6955e638a0",
   "metadata": {},
   "outputs": [
    {
     "data": {
      "text/html": [
       "<div>\n",
       "<style scoped>\n",
       "    .dataframe tbody tr th:only-of-type {\n",
       "        vertical-align: middle;\n",
       "    }\n",
       "\n",
       "    .dataframe tbody tr th {\n",
       "        vertical-align: top;\n",
       "    }\n",
       "\n",
       "    .dataframe thead th {\n",
       "        text-align: right;\n",
       "    }\n",
       "</style>\n",
       "<table border=\"1\" class=\"dataframe\">\n",
       "  <thead>\n",
       "    <tr style=\"text-align: right;\">\n",
       "      <th></th>\n",
       "      <th>neighbourhood_group</th>\n",
       "      <th>neighbourhood</th>\n",
       "    </tr>\n",
       "  </thead>\n",
       "  <tbody>\n",
       "    <tr>\n",
       "      <th>0</th>\n",
       "      <td>NaN</td>\n",
       "      <td>Ashfield</td>\n",
       "    </tr>\n",
       "    <tr>\n",
       "      <th>1</th>\n",
       "      <td>NaN</td>\n",
       "      <td>Auburn</td>\n",
       "    </tr>\n",
       "    <tr>\n",
       "      <th>2</th>\n",
       "      <td>NaN</td>\n",
       "      <td>Bankstown</td>\n",
       "    </tr>\n",
       "    <tr>\n",
       "      <th>3</th>\n",
       "      <td>NaN</td>\n",
       "      <td>Blacktown</td>\n",
       "    </tr>\n",
       "    <tr>\n",
       "      <th>4</th>\n",
       "      <td>NaN</td>\n",
       "      <td>Botany Bay</td>\n",
       "    </tr>\n",
       "  </tbody>\n",
       "</table>\n",
       "</div>"
      ],
      "text/plain": [
       "   neighbourhood_group neighbourhood\n",
       "0                  NaN      Ashfield\n",
       "1                  NaN        Auburn\n",
       "2                  NaN     Bankstown\n",
       "3                  NaN     Blacktown\n",
       "4                  NaN    Botany Bay"
      ]
     },
     "execution_count": 130,
     "metadata": {},
     "output_type": "execute_result"
    }
   ],
   "source": [
    "df_neighbourhoods_csv = pd.read_csv('./data_airbnb_syd/20210110/neighbourhoods.csv', header='infer')\n",
    "df_neighbourhoods_csv.head()"
   ]
  },
  {
   "cell_type": "code",
   "execution_count": 131,
   "id": "55bdb273-3c01-433b-8a9d-d0c1cc92405f",
   "metadata": {},
   "outputs": [
    {
     "data": {
      "text/plain": [
       "neighbourhood_group     0\n",
       "neighbourhood          38\n",
       "dtype: int64"
      ]
     },
     "execution_count": 131,
     "metadata": {},
     "output_type": "execute_result"
    }
   ],
   "source": [
    "df_neighbourhoods_csv.count()"
   ]
  },
  {
   "cell_type": "code",
   "execution_count": 132,
   "id": "09f73047-5456-4b91-b992-43c4b4b30337",
   "metadata": {},
   "outputs": [
    {
     "data": {
      "text/html": [
       "<div>\n",
       "<style scoped>\n",
       "    .dataframe tbody tr th:only-of-type {\n",
       "        vertical-align: middle;\n",
       "    }\n",
       "\n",
       "    .dataframe tbody tr th {\n",
       "        vertical-align: top;\n",
       "    }\n",
       "\n",
       "    .dataframe thead th {\n",
       "        text-align: right;\n",
       "    }\n",
       "</style>\n",
       "<table border=\"1\" class=\"dataframe\">\n",
       "  <thead>\n",
       "    <tr style=\"text-align: right;\">\n",
       "      <th></th>\n",
       "      <th>neighbourhood_group</th>\n",
       "      <th>neighbourhood</th>\n",
       "    </tr>\n",
       "  </thead>\n",
       "  <tbody>\n",
       "    <tr>\n",
       "      <th>0</th>\n",
       "      <td>NaN</td>\n",
       "      <td>Ashfield</td>\n",
       "    </tr>\n",
       "    <tr>\n",
       "      <th>1</th>\n",
       "      <td>NaN</td>\n",
       "      <td>Auburn</td>\n",
       "    </tr>\n",
       "    <tr>\n",
       "      <th>2</th>\n",
       "      <td>NaN</td>\n",
       "      <td>Bankstown</td>\n",
       "    </tr>\n",
       "    <tr>\n",
       "      <th>3</th>\n",
       "      <td>NaN</td>\n",
       "      <td>Blacktown</td>\n",
       "    </tr>\n",
       "    <tr>\n",
       "      <th>4</th>\n",
       "      <td>NaN</td>\n",
       "      <td>Botany Bay</td>\n",
       "    </tr>\n",
       "    <tr>\n",
       "      <th>5</th>\n",
       "      <td>NaN</td>\n",
       "      <td>Burwood</td>\n",
       "    </tr>\n",
       "    <tr>\n",
       "      <th>6</th>\n",
       "      <td>NaN</td>\n",
       "      <td>Camden</td>\n",
       "    </tr>\n",
       "    <tr>\n",
       "      <th>7</th>\n",
       "      <td>NaN</td>\n",
       "      <td>Campbelltown</td>\n",
       "    </tr>\n",
       "    <tr>\n",
       "      <th>8</th>\n",
       "      <td>NaN</td>\n",
       "      <td>Canada Bay</td>\n",
       "    </tr>\n",
       "    <tr>\n",
       "      <th>9</th>\n",
       "      <td>NaN</td>\n",
       "      <td>Canterbury</td>\n",
       "    </tr>\n",
       "    <tr>\n",
       "      <th>10</th>\n",
       "      <td>NaN</td>\n",
       "      <td>City Of Kogarah</td>\n",
       "    </tr>\n",
       "    <tr>\n",
       "      <th>11</th>\n",
       "      <td>NaN</td>\n",
       "      <td>Fairfield</td>\n",
       "    </tr>\n",
       "    <tr>\n",
       "      <th>12</th>\n",
       "      <td>NaN</td>\n",
       "      <td>Holroyd</td>\n",
       "    </tr>\n",
       "    <tr>\n",
       "      <th>13</th>\n",
       "      <td>NaN</td>\n",
       "      <td>Hornsby</td>\n",
       "    </tr>\n",
       "    <tr>\n",
       "      <th>14</th>\n",
       "      <td>NaN</td>\n",
       "      <td>Hunters Hill</td>\n",
       "    </tr>\n",
       "    <tr>\n",
       "      <th>15</th>\n",
       "      <td>NaN</td>\n",
       "      <td>Hurstville</td>\n",
       "    </tr>\n",
       "    <tr>\n",
       "      <th>16</th>\n",
       "      <td>NaN</td>\n",
       "      <td>Ku-Ring-Gai</td>\n",
       "    </tr>\n",
       "    <tr>\n",
       "      <th>17</th>\n",
       "      <td>NaN</td>\n",
       "      <td>Lane Cove</td>\n",
       "    </tr>\n",
       "    <tr>\n",
       "      <th>18</th>\n",
       "      <td>NaN</td>\n",
       "      <td>Leichhardt</td>\n",
       "    </tr>\n",
       "    <tr>\n",
       "      <th>19</th>\n",
       "      <td>NaN</td>\n",
       "      <td>Liverpool</td>\n",
       "    </tr>\n",
       "    <tr>\n",
       "      <th>20</th>\n",
       "      <td>NaN</td>\n",
       "      <td>Manly</td>\n",
       "    </tr>\n",
       "    <tr>\n",
       "      <th>21</th>\n",
       "      <td>NaN</td>\n",
       "      <td>Marrickville</td>\n",
       "    </tr>\n",
       "    <tr>\n",
       "      <th>22</th>\n",
       "      <td>NaN</td>\n",
       "      <td>Mosman</td>\n",
       "    </tr>\n",
       "    <tr>\n",
       "      <th>23</th>\n",
       "      <td>NaN</td>\n",
       "      <td>North Sydney</td>\n",
       "    </tr>\n",
       "    <tr>\n",
       "      <th>24</th>\n",
       "      <td>NaN</td>\n",
       "      <td>Parramatta</td>\n",
       "    </tr>\n",
       "    <tr>\n",
       "      <th>25</th>\n",
       "      <td>NaN</td>\n",
       "      <td>Penrith</td>\n",
       "    </tr>\n",
       "    <tr>\n",
       "      <th>26</th>\n",
       "      <td>NaN</td>\n",
       "      <td>Pittwater</td>\n",
       "    </tr>\n",
       "    <tr>\n",
       "      <th>27</th>\n",
       "      <td>NaN</td>\n",
       "      <td>Randwick</td>\n",
       "    </tr>\n",
       "    <tr>\n",
       "      <th>28</th>\n",
       "      <td>NaN</td>\n",
       "      <td>Rockdale</td>\n",
       "    </tr>\n",
       "    <tr>\n",
       "      <th>29</th>\n",
       "      <td>NaN</td>\n",
       "      <td>Ryde</td>\n",
       "    </tr>\n",
       "    <tr>\n",
       "      <th>30</th>\n",
       "      <td>NaN</td>\n",
       "      <td>Strathfield</td>\n",
       "    </tr>\n",
       "    <tr>\n",
       "      <th>31</th>\n",
       "      <td>NaN</td>\n",
       "      <td>Sutherland Shire</td>\n",
       "    </tr>\n",
       "    <tr>\n",
       "      <th>32</th>\n",
       "      <td>NaN</td>\n",
       "      <td>Sydney</td>\n",
       "    </tr>\n",
       "    <tr>\n",
       "      <th>33</th>\n",
       "      <td>NaN</td>\n",
       "      <td>The Hills Shire</td>\n",
       "    </tr>\n",
       "    <tr>\n",
       "      <th>34</th>\n",
       "      <td>NaN</td>\n",
       "      <td>Warringah</td>\n",
       "    </tr>\n",
       "    <tr>\n",
       "      <th>35</th>\n",
       "      <td>NaN</td>\n",
       "      <td>Waverley</td>\n",
       "    </tr>\n",
       "    <tr>\n",
       "      <th>36</th>\n",
       "      <td>NaN</td>\n",
       "      <td>Willoughby</td>\n",
       "    </tr>\n",
       "    <tr>\n",
       "      <th>37</th>\n",
       "      <td>NaN</td>\n",
       "      <td>Woollahra</td>\n",
       "    </tr>\n",
       "  </tbody>\n",
       "</table>\n",
       "</div>"
      ],
      "text/plain": [
       "    neighbourhood_group     neighbourhood\n",
       "0                   NaN          Ashfield\n",
       "1                   NaN            Auburn\n",
       "2                   NaN         Bankstown\n",
       "3                   NaN         Blacktown\n",
       "4                   NaN        Botany Bay\n",
       "5                   NaN           Burwood\n",
       "6                   NaN            Camden\n",
       "7                   NaN      Campbelltown\n",
       "8                   NaN        Canada Bay\n",
       "9                   NaN        Canterbury\n",
       "10                  NaN   City Of Kogarah\n",
       "11                  NaN         Fairfield\n",
       "12                  NaN           Holroyd\n",
       "13                  NaN           Hornsby\n",
       "14                  NaN      Hunters Hill\n",
       "15                  NaN        Hurstville\n",
       "16                  NaN       Ku-Ring-Gai\n",
       "17                  NaN         Lane Cove\n",
       "18                  NaN        Leichhardt\n",
       "19                  NaN         Liverpool\n",
       "20                  NaN             Manly\n",
       "21                  NaN      Marrickville\n",
       "22                  NaN            Mosman\n",
       "23                  NaN      North Sydney\n",
       "24                  NaN        Parramatta\n",
       "25                  NaN           Penrith\n",
       "26                  NaN         Pittwater\n",
       "27                  NaN          Randwick\n",
       "28                  NaN          Rockdale\n",
       "29                  NaN              Ryde\n",
       "30                  NaN       Strathfield\n",
       "31                  NaN  Sutherland Shire\n",
       "32                  NaN            Sydney\n",
       "33                  NaN   The Hills Shire\n",
       "34                  NaN         Warringah\n",
       "35                  NaN          Waverley\n",
       "36                  NaN        Willoughby\n",
       "37                  NaN         Woollahra"
      ]
     },
     "execution_count": 132,
     "metadata": {},
     "output_type": "execute_result"
    }
   ],
   "source": [
    "df_neighbourhoods_csv"
   ]
  },
  {
   "cell_type": "code",
   "execution_count": 135,
   "id": "0136e047-12a8-4c4b-ab9c-1b664bb67fa1",
   "metadata": {},
   "outputs": [
    {
     "data": {
      "text/html": [
       "<div>\n",
       "<style scoped>\n",
       "    .dataframe tbody tr th:only-of-type {\n",
       "        vertical-align: middle;\n",
       "    }\n",
       "\n",
       "    .dataframe tbody tr th {\n",
       "        vertical-align: top;\n",
       "    }\n",
       "\n",
       "    .dataframe thead th {\n",
       "        text-align: right;\n",
       "    }\n",
       "</style>\n",
       "<table border=\"1\" class=\"dataframe\">\n",
       "  <thead>\n",
       "    <tr style=\"text-align: right;\">\n",
       "      <th></th>\n",
       "      <th>type</th>\n",
       "      <th>features</th>\n",
       "    </tr>\n",
       "  </thead>\n",
       "  <tbody>\n",
       "    <tr>\n",
       "      <th>0</th>\n",
       "      <td>FeatureCollection</td>\n",
       "      <td>{'type': 'Feature', 'geometry': {'type': 'Mult...</td>\n",
       "    </tr>\n",
       "    <tr>\n",
       "      <th>1</th>\n",
       "      <td>FeatureCollection</td>\n",
       "      <td>{'type': 'Feature', 'geometry': {'type': 'Mult...</td>\n",
       "    </tr>\n",
       "    <tr>\n",
       "      <th>2</th>\n",
       "      <td>FeatureCollection</td>\n",
       "      <td>{'type': 'Feature', 'geometry': {'type': 'Mult...</td>\n",
       "    </tr>\n",
       "    <tr>\n",
       "      <th>3</th>\n",
       "      <td>FeatureCollection</td>\n",
       "      <td>{'type': 'Feature', 'geometry': {'type': 'Mult...</td>\n",
       "    </tr>\n",
       "    <tr>\n",
       "      <th>4</th>\n",
       "      <td>FeatureCollection</td>\n",
       "      <td>{'type': 'Feature', 'geometry': {'type': 'Mult...</td>\n",
       "    </tr>\n",
       "  </tbody>\n",
       "</table>\n",
       "</div>"
      ],
      "text/plain": [
       "                type                                           features\n",
       "0  FeatureCollection  {'type': 'Feature', 'geometry': {'type': 'Mult...\n",
       "1  FeatureCollection  {'type': 'Feature', 'geometry': {'type': 'Mult...\n",
       "2  FeatureCollection  {'type': 'Feature', 'geometry': {'type': 'Mult...\n",
       "3  FeatureCollection  {'type': 'Feature', 'geometry': {'type': 'Mult...\n",
       "4  FeatureCollection  {'type': 'Feature', 'geometry': {'type': 'Mult..."
      ]
     },
     "execution_count": 135,
     "metadata": {},
     "output_type": "execute_result"
    }
   ],
   "source": [
    "df_neighbourhoods_geo = pd.read_json('./data_airbnb_syd/20210110/neighbourhoods.geojson')\n",
    "df_neighbourhoods_geo.head()"
   ]
  },
  {
   "cell_type": "code",
   "execution_count": null,
   "id": "5008f708-bda2-4d11-857b-85911c163c2e",
   "metadata": {},
   "outputs": [],
   "source": [
    "print(df_neighbourhoods_geo.iloc[0])\n",
    "print(df_neighbourhoods_geo.iloc[0]['features'])\n"
   ]
  },
  {
   "cell_type": "code",
   "execution_count": null,
   "id": "bd33c327-37b1-41fc-89cb-9db42bf97aeb",
   "metadata": {},
   "outputs": [],
   "source": []
  }
 ],
 "metadata": {
  "kernelspec": {
   "display_name": "Python 3",
   "language": "python",
   "name": "python3"
  },
  "language_info": {
   "codemirror_mode": {
    "name": "ipython",
    "version": 3
   },
   "file_extension": ".py",
   "mimetype": "text/x-python",
   "name": "python",
   "nbconvert_exporter": "python",
   "pygments_lexer": "ipython3",
   "version": "3.9.7"
  }
 },
 "nbformat": 4,
 "nbformat_minor": 5
}
